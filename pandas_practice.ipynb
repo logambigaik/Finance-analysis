{
 "cells": [
  {
   "cell_type": "code",
   "execution_count": 15,
   "metadata": {
    "vscode": {
     "languageId": "plaintext"
    }
   },
   "outputs": [
    {
     "name": "stdout",
     "output_type": "stream",
     "text": [
      "<class 'pandas.core.frame.DataFrame'>\n",
      "RangeIndex: 125 entries, 0 to 124\n",
      "Data columns (total 7 columns):\n",
      " #   Column     Non-Null Count  Dtype  \n",
      "---  ------     --------------  -----  \n",
      " 0   Date       125 non-null    object \n",
      " 1   Open       125 non-null    float64\n",
      " 2   High       125 non-null    float64\n",
      " 3   Low        125 non-null    float64\n",
      " 4   Close      125 non-null    float64\n",
      " 5   Adj Close  125 non-null    float64\n",
      " 6   Volume     125 non-null    int64  \n",
      "dtypes: float64(5), int64(1), object(1)\n",
      "memory usage: 7.0+ KB\n"
     ]
    },
    {
     "data": {
      "text/plain": [
       "0      False\n",
       "1      False\n",
       "2      False\n",
       "3      False\n",
       "4      False\n",
       "       ...  \n",
       "120    False\n",
       "121    False\n",
       "122    False\n",
       "123    False\n",
       "124    False\n",
       "Length: 125, dtype: bool"
      ]
     },
     "execution_count": 15,
     "metadata": {},
     "output_type": "execute_result"
    }
   ],
   "source": [
    "import pandas as pd \n",
    "\n",
    "df = pd.read_csv('AAPL_data.csv')\n",
    "df.head(5)\n",
    "df.info()\n",
    "# df['Date'].nunique()\n",
    "# df['High'].dropna()\n",
    "df.columns #name of the columns\n",
    "df.describe() #it gives information about numeric columns.\n",
    "len(df)\n",
    "df.duplicated()"
   ]
  },
  {
   "cell_type": "code",
   "execution_count": 16,
   "metadata": {},
   "outputs": [
    {
     "data": {
      "text/plain": [
       "0      False\n",
       "1      False\n",
       "2      False\n",
       "3      False\n",
       "4      False\n",
       "       ...  \n",
       "120    False\n",
       "121    False\n",
       "122    False\n",
       "123    False\n",
       "124    False\n",
       "Length: 125, dtype: bool"
      ]
     },
     "execution_count": 16,
     "metadata": {},
     "output_type": "execute_result"
    }
   ],
   "source": [
    "df.duplicated()"
   ]
  },
  {
   "cell_type": "code",
   "execution_count": 21,
   "metadata": {},
   "outputs": [
    {
     "data": {
      "text/plain": [
       "np.int64(0)"
      ]
     },
     "execution_count": 21,
     "metadata": {},
     "output_type": "execute_result"
    }
   ],
   "source": [
    "df.isnull().sum()\n",
    "df.duplicated().sum()"
   ]
  },
  {
   "cell_type": "code",
   "execution_count": 22,
   "metadata": {},
   "outputs": [
    {
     "data": {
      "text/html": [
       "<div>\n",
       "<style scoped>\n",
       "    .dataframe tbody tr th:only-of-type {\n",
       "        vertical-align: middle;\n",
       "    }\n",
       "\n",
       "    .dataframe tbody tr th {\n",
       "        vertical-align: top;\n",
       "    }\n",
       "\n",
       "    .dataframe thead th {\n",
       "        text-align: right;\n",
       "    }\n",
       "</style>\n",
       "<table border=\"1\" class=\"dataframe\">\n",
       "  <thead>\n",
       "    <tr style=\"text-align: right;\">\n",
       "      <th></th>\n",
       "      <th>Date</th>\n",
       "      <th>Open</th>\n",
       "      <th>High</th>\n",
       "      <th>Low</th>\n",
       "      <th>Close</th>\n",
       "      <th>Adj Close</th>\n",
       "      <th>Volume</th>\n",
       "    </tr>\n",
       "  </thead>\n",
       "  <tbody>\n",
       "    <tr>\n",
       "      <th>0</th>\n",
       "      <td>2018-01-02</td>\n",
       "      <td>170.160004</td>\n",
       "      <td>172.300003</td>\n",
       "      <td>169.259995</td>\n",
       "      <td>172.259995</td>\n",
       "      <td>168.339050</td>\n",
       "      <td>25555900</td>\n",
       "    </tr>\n",
       "    <tr>\n",
       "      <th>1</th>\n",
       "      <td>2018-01-03</td>\n",
       "      <td>172.529999</td>\n",
       "      <td>174.550003</td>\n",
       "      <td>171.960007</td>\n",
       "      <td>172.229996</td>\n",
       "      <td>168.309738</td>\n",
       "      <td>29517900</td>\n",
       "    </tr>\n",
       "  </tbody>\n",
       "</table>\n",
       "</div>"
      ],
      "text/plain": [
       "         Date        Open        High         Low       Close   Adj Close  \\\n",
       "0  2018-01-02  170.160004  172.300003  169.259995  172.259995  168.339050   \n",
       "1  2018-01-03  172.529999  174.550003  171.960007  172.229996  168.309738   \n",
       "\n",
       "     Volume  \n",
       "0  25555900  \n",
       "1  29517900  "
      ]
     },
     "execution_count": 22,
     "metadata": {},
     "output_type": "execute_result"
    }
   ],
   "source": [
    "df.head(2)"
   ]
  },
  {
   "cell_type": "code",
   "execution_count": 43,
   "metadata": {},
   "outputs": [
    {
     "name": "stdout",
     "output_type": "stream",
     "text": [
      "Collecting openpyxl\n",
      "  Downloading openpyxl-3.1.5-py2.py3-none-any.whl (250 kB)\n",
      "\u001b[K     |████████████████████████████████| 250 kB 3.9 MB/s eta 0:00:01\n",
      "\u001b[?25hCollecting et-xmlfile\n",
      "  Downloading et_xmlfile-2.0.0-py3-none-any.whl (18 kB)\n",
      "Installing collected packages: et-xmlfile, openpyxl\n",
      "Successfully installed et-xmlfile-2.0.0 openpyxl-3.1.5\n",
      "\u001b[33mWARNING: You are using pip version 21.2.4; however, version 25.1.1 is available.\n",
      "You should consider upgrading via the '/Users/logambigaikuppusamy/Documents/DataScience/Financeanalyst/venv/bin/python3 -m pip install --upgrade pip' command.\u001b[0m\n",
      "Note: you may need to restart the kernel to use updated packages.\n"
     ]
    }
   ],
   "source": [
    "pip install openpyxl"
   ]
  },
  {
   "cell_type": "code",
   "execution_count": 44,
   "metadata": {},
   "outputs": [
    {
     "name": "stdout",
     "output_type": "stream",
     "text": [
      "/Users/logambigaikuppusamy/Documents/DataScience/Financeanalyst\n"
     ]
    },
    {
     "data": {
      "text/html": [
       "<div>\n",
       "<style scoped>\n",
       "    .dataframe tbody tr th:only-of-type {\n",
       "        vertical-align: middle;\n",
       "    }\n",
       "\n",
       "    .dataframe tbody tr th {\n",
       "        vertical-align: top;\n",
       "    }\n",
       "\n",
       "    .dataframe thead th {\n",
       "        text-align: right;\n",
       "    }\n",
       "</style>\n",
       "<table border=\"1\" class=\"dataframe\">\n",
       "  <thead>\n",
       "    <tr style=\"text-align: right;\">\n",
       "      <th></th>\n",
       "      <th>id</th>\n",
       "      <th>name</th>\n",
       "      <th>class</th>\n",
       "      <th>mark</th>\n",
       "      <th>gender</th>\n",
       "    </tr>\n",
       "  </thead>\n",
       "  <tbody>\n",
       "    <tr>\n",
       "      <th>0</th>\n",
       "      <td>1</td>\n",
       "      <td>John Deo</td>\n",
       "      <td>Four</td>\n",
       "      <td>75</td>\n",
       "      <td>female</td>\n",
       "    </tr>\n",
       "    <tr>\n",
       "      <th>1</th>\n",
       "      <td>2</td>\n",
       "      <td>Max Ruin</td>\n",
       "      <td>Three</td>\n",
       "      <td>85</td>\n",
       "      <td>male</td>\n",
       "    </tr>\n",
       "  </tbody>\n",
       "</table>\n",
       "</div>"
      ],
      "text/plain": [
       "   id      name  class  mark  gender\n",
       "0   1  John Deo   Four    75  female\n",
       "1   2  Max Ruin  Three    85    male"
      ]
     },
     "execution_count": 44,
     "metadata": {},
     "output_type": "execute_result"
    }
   ],
   "source": [
    "import pandas as pd\n",
    "import os\n",
    "print(os.getcwd())\n",
    "# df1= pd.read_csv('.//real_estate_investment_trust_analysis/EQR.csv')\n",
    "df1 = pd.read_excel('student.xlsx')\n",
    "# df1 = pd.read_excel('./student.xlsx', engine='openpyxl')\n",
    "df1.head(2)"
   ]
  },
  {
   "cell_type": "code",
   "execution_count": 84,
   "metadata": {},
   "outputs": [
    {
     "data": {
      "text/html": [
       "<div>\n",
       "<style scoped>\n",
       "    .dataframe tbody tr th:only-of-type {\n",
       "        vertical-align: middle;\n",
       "    }\n",
       "\n",
       "    .dataframe tbody tr th {\n",
       "        vertical-align: top;\n",
       "    }\n",
       "\n",
       "    .dataframe thead th {\n",
       "        text-align: right;\n",
       "    }\n",
       "</style>\n",
       "<table border=\"1\" class=\"dataframe\">\n",
       "  <thead>\n",
       "    <tr style=\"text-align: right;\">\n",
       "      <th></th>\n",
       "      <th>class</th>\n",
       "      <th>gender</th>\n",
       "    </tr>\n",
       "  </thead>\n",
       "  <tbody>\n",
       "    <tr>\n",
       "      <th>0</th>\n",
       "      <td>Four</td>\n",
       "      <td>female</td>\n",
       "    </tr>\n",
       "    <tr>\n",
       "      <th>1</th>\n",
       "      <td>Three</td>\n",
       "      <td>male</td>\n",
       "    </tr>\n",
       "    <tr>\n",
       "      <th>2</th>\n",
       "      <td>Three</td>\n",
       "      <td>male</td>\n",
       "    </tr>\n",
       "  </tbody>\n",
       "</table>\n",
       "</div>"
      ],
      "text/plain": [
       "   class  gender\n",
       "0   Four  female\n",
       "1  Three    male\n",
       "2  Three    male"
      ]
     },
     "execution_count": 84,
     "metadata": {},
     "output_type": "execute_result"
    }
   ],
   "source": [
    "# 1) Return name and class of first 3 students\n",
    "df1[[\"name\",\"class\"]].head(3)\n",
    "df1[['name', 'class']][:3]\n",
    "df1.loc[0:2, ['name', 'class']]\n",
    "df1.iloc[:3,1:3]\n",
    "\n",
    "# 2) Return average mark for all students\n",
    "df1['mark'].mean()\n",
    "\n",
    "# 3) Return 3 sample class and gender of the students\n",
    "df1[['class','gender']].sample(3)\n",
    "df1[['class', 'gender']][:3]\n",
    "df1.loc[0:2, ['class', 'gender']]\n",
    "df1.iloc[:3][['class', 'gender']]\n",
    "df1.iloc[0:3, [2, 4]]\n",
    "\n",
    "# 4) Return first 5 rows\n",
    "# Use slicing method\n",
    "# Use loc\n",
    "# Use iloc\n",
    "# df1[0:5]\n",
    "# df1.loc[0:4]\n",
    "# df1.iloc[0:5]\n"
   ]
  },
  {
   "cell_type": "code",
   "execution_count": 116,
   "metadata": {},
   "outputs": [
    {
     "data": {
      "text/html": [
       "<div>\n",
       "<style scoped>\n",
       "    .dataframe tbody tr th:only-of-type {\n",
       "        vertical-align: middle;\n",
       "    }\n",
       "\n",
       "    .dataframe tbody tr th {\n",
       "        vertical-align: top;\n",
       "    }\n",
       "\n",
       "    .dataframe thead th {\n",
       "        text-align: right;\n",
       "    }\n",
       "</style>\n",
       "<table border=\"1\" class=\"dataframe\">\n",
       "  <thead>\n",
       "    <tr style=\"text-align: right;\">\n",
       "      <th></th>\n",
       "      <th>id</th>\n",
       "      <th>name</th>\n",
       "      <th>class</th>\n",
       "      <th>mark</th>\n",
       "      <th>gender</th>\n",
       "    </tr>\n",
       "  </thead>\n",
       "  <tbody>\n",
       "    <tr>\n",
       "      <th>1</th>\n",
       "      <td>2</td>\n",
       "      <td>Max Ruin</td>\n",
       "      <td>Three</td>\n",
       "      <td>85</td>\n",
       "      <td>male</td>\n",
       "    </tr>\n",
       "    <tr>\n",
       "      <th>2</th>\n",
       "      <td>3</td>\n",
       "      <td>Arnold</td>\n",
       "      <td>Three</td>\n",
       "      <td>55</td>\n",
       "      <td>male</td>\n",
       "    </tr>\n",
       "  </tbody>\n",
       "</table>\n",
       "</div>"
      ],
      "text/plain": [
       "   id      name  class  mark gender\n",
       "1   2  Max Ruin  Three    85   male\n",
       "2   3    Arnold  Three    55   male"
      ]
     },
     "execution_count": 116,
     "metadata": {},
     "output_type": "execute_result"
    }
   ],
   "source": [
    "df1[df1['gender']=='male']\n",
    "df1[df1['class']=='Six']\n",
    "df1[~(df1['mark']>52)]\n",
    "# with iloc\n",
    "df1[df1.iloc[:,3]<52]\n",
    "df1[df1.loc[:,'mark']<52]\n",
    "df1.loc[(df1['mark']<52) & (df1['gender']=='male')]\n",
    "df1.loc[(df1['mark']>52) & (df1['gender']=='female')].head(2)\n",
    "df1.loc[(df1['mark']>52) & (df1['gender']=='female'),['name','class','mark','gender']].head(2)\n",
    "\n",
    "# OR operator\n",
    "df1[(df1[\"gender\"] == \"male\") | (df1[\"class\"]==\"Five\")].head(2)"
   ]
  },
  {
   "cell_type": "code",
   "execution_count": 180,
   "metadata": {},
   "outputs": [
    {
     "data": {
      "text/plain": [
       "class\n",
       "Seven    10\n",
       "Four      8\n",
       "Six       7\n",
       "Three     3\n",
       "Five      2\n",
       "Nine      2\n",
       "Fifth     1\n",
       "Eight     1\n",
       "Name: count, dtype: int64"
      ]
     },
     "execution_count": 180,
     "metadata": {},
     "output_type": "execute_result"
    }
   ],
   "source": [
    "# Average mark across all students\n",
    "df1[['mark']].mean()\n",
    "\n",
    "# Average mark across male and female students\n",
    "# df1[df1['gender'].isin(['male', 'female'])]['mark'].mean()\n",
    "# df1[(df1['gender']=='male') | (df1['gender']=='female')]['mark'].mean()\n",
    "# df1[(df1['gender']=='male') ]['mark'].mean()\n",
    "# df1[(df1['gender']=='female')]['mark'].mean()\n",
    "df1.loc[df1['gender']=='male','mark'].mean()\n",
    "\n",
    "\n",
    "# # Max and min mark\n",
    "#df1[df1['mark']].min()\n",
    "df1[['mark']].max()\n",
    "\n",
    "# # Max mark for male and female students\n",
    "# df1[(df1['gender']=='female')]['mark'].max()\n",
    "# df1[(df1['gender']=='male')]['mark'].max()\n",
    "# df1[(df1['gender']=='female') | (df1['gender']=='male')]['mark'].max()\n",
    "\n",
    "\n",
    "# # # Average mark for class 'Five'\n",
    "# df1[(df1['class']=='Five')]['mark'].mean()\n",
    "\n",
    "# # # Average mark for class 'Six' and male students only \n",
    "# df1[(df1['class']=='Six') & (df1['gender']=='male')]['mark'].mean()\n",
    "df1.loc[(df1['class']=='Six') & (df1['gender']=='male'),'mark'].mean()\n",
    "\n",
    "\n",
    "df1.loc[1:10,['name','class','mark']].sort_values(by='mark', ascending=False)\n",
    "df1.loc[:, \"name\"].sort_values().head(3) # you can ignore by argument if there is only 1 column in the output\n",
    "df1.sort_values(by=\"mark\", ascending=False).head()\n",
    "df1.loc[:, :].sort_values(by=\"gender\", ascending=False)\n",
    "df1.loc[1:10,['name','class']].sort_values(by='class', ascending=False)\n",
    "\n",
    "#number of students in each class\n",
    "df1['class'].value_counts()"
   ]
  },
  {
   "cell_type": "code",
   "execution_count": 181,
   "metadata": {},
   "outputs": [
    {
     "name": "stdout",
     "output_type": "stream",
     "text": [
      "calories    420\n",
      "duration     50\n",
      "Name: 0, dtype: int64\n",
      "   Store ID       Location  Number of Employees\n",
      "0         1      San Diego                  100\n",
      "1         2    Los Angeles                  120\n",
      "2         3  San Francisco                   90\n",
      "3         4     Sacramento                  115\n"
     ]
    }
   ],
   "source": [
    "data = {\n",
    "  'calories': [420, 380, 390],\n",
    "  'duration': [50, 40, 45]\n",
    "}\n",
    "df = pd.DataFrame(data)\n",
    "print(df.loc[0])\n",
    "# Insert the correct argument to make sure that the changes are done for the original DataFrame instead of returning a new one.\n",
    "# dropna(inplace = True)\n",
    "\n",
    "df2 = pd.DataFrame([\n",
    "  [1, 'San Diego', 100],\n",
    "  [2, 'Los Angeles', 120],\n",
    "  # Fill in rows 3 and 4\n",
    "  [3, 'San Francisco', 90],\n",
    "  [4, 'Sacramento', 115]\n",
    "],\n",
    "  columns=[\n",
    "    #add column names here\n",
    "    'Store ID','Location','Number of Employees'\n",
    "  ])\n",
    "\n",
    "print(df2)"
   ]
  },
  {
   "cell_type": "code",
   "execution_count": 183,
   "metadata": {},
   "outputs": [],
   "source": [
    "####Loading and Saving CSVs\n",
    "\n",
    "pd.read_csv('my-csv-file.csv')\n",
    "df.to_csv('new-csv-file.csv')\n"
   ]
  },
  {
   "cell_type": "code",
   "execution_count": 199,
   "metadata": {},
   "outputs": [
    {
     "name": "stdout",
     "output_type": "stream",
     "text": [
      "/Users/logambigaikuppusamy/Documents/DataScience/Financeanalyst\n",
      "<class 'pandas.core.frame.DataFrame'>\n",
      "RangeIndex: 102 entries, 0 to 101\n",
      "Data columns (total 7 columns):\n",
      " #   Column                  Non-Null Count  Dtype  \n",
      "---  ------                  --------------  -----  \n",
      " 0   Scientific name         102 non-null    object \n",
      " 1   Common name             102 non-null    object \n",
      " 2   Photo                   0 non-null      float64\n",
      " 3   Size                    33 non-null     object \n",
      " 4   Native Species          46 non-null     object \n",
      " 5   Planted in NYC streets  15 non-null     object \n",
      " 6   Edible fruit            7 non-null      object \n",
      "dtypes: float64(1), object(6)\n",
      "memory usage: 5.7+ KB\n",
      "None\n"
     ]
    }
   ],
   "source": [
    "# To inspect the data\n",
    "import os, pandas as pd\n",
    "print(os.getcwd())\n",
    "df = pd.read_csv('tree_species_nyc.csv', encoding='ISO-8859-1')\n",
    "df.info\n",
    "print(df.info())"
   ]
  },
  {
   "cell_type": "code",
   "execution_count": 200,
   "metadata": {},
   "outputs": [
    {
     "name": "stdout",
     "output_type": "stream",
     "text": [
      "0    100\n",
      "1     45\n",
      "2     96\n",
      "3     80\n",
      "4     54\n",
      "5    109\n",
      "Name: clinic_north, dtype: int64\n",
      "<class 'pandas.core.series.Series'>\n",
      "<class 'pandas.core.frame.DataFrame'>\n"
     ]
    }
   ],
   "source": [
    "df = pd.DataFrame([\n",
    "  ['January', 100, 100, 23, 100],\n",
    "  ['February', 51, 45, 145, 45],\n",
    "  ['March', 81, 96, 65, 96],\n",
    "  ['April', 80, 80, 54, 180],\n",
    "  ['May', 51, 54, 54, 154],\n",
    "  ['June', 112, 109, 79, 129]],\n",
    "  columns=['month', 'clinic_east',\n",
    "           'clinic_north', 'clinic_south',\n",
    "           'clinic_west']\n",
    ")\n",
    "clinic_north = df['clinic_north']\n",
    "print(clinic_north)\n",
    "print(type(clinic_north))\n",
    "print(type(df))"
   ]
  },
  {
   "cell_type": "code",
   "execution_count": 202,
   "metadata": {},
   "outputs": [
    {
     "name": "stdout",
     "output_type": "stream",
     "text": [
      "<class 'pandas.core.frame.DataFrame'>\n"
     ]
    },
    {
     "data": {
      "text/html": [
       "<div>\n",
       "<style scoped>\n",
       "    .dataframe tbody tr th:only-of-type {\n",
       "        vertical-align: middle;\n",
       "    }\n",
       "\n",
       "    .dataframe tbody tr th {\n",
       "        vertical-align: top;\n",
       "    }\n",
       "\n",
       "    .dataframe thead th {\n",
       "        text-align: right;\n",
       "    }\n",
       "</style>\n",
       "<table border=\"1\" class=\"dataframe\">\n",
       "  <thead>\n",
       "    <tr style=\"text-align: right;\">\n",
       "      <th></th>\n",
       "      <th>clinic_north</th>\n",
       "      <th>clinic_south</th>\n",
       "    </tr>\n",
       "  </thead>\n",
       "  <tbody>\n",
       "    <tr>\n",
       "      <th>0</th>\n",
       "      <td>100</td>\n",
       "      <td>23</td>\n",
       "    </tr>\n",
       "    <tr>\n",
       "      <th>1</th>\n",
       "      <td>45</td>\n",
       "      <td>145</td>\n",
       "    </tr>\n",
       "    <tr>\n",
       "      <th>2</th>\n",
       "      <td>96</td>\n",
       "      <td>65</td>\n",
       "    </tr>\n",
       "    <tr>\n",
       "      <th>3</th>\n",
       "      <td>80</td>\n",
       "      <td>54</td>\n",
       "    </tr>\n",
       "    <tr>\n",
       "      <th>4</th>\n",
       "      <td>54</td>\n",
       "      <td>54</td>\n",
       "    </tr>\n",
       "    <tr>\n",
       "      <th>5</th>\n",
       "      <td>109</td>\n",
       "      <td>79</td>\n",
       "    </tr>\n",
       "  </tbody>\n",
       "</table>\n",
       "</div>"
      ],
      "text/plain": [
       "   clinic_north  clinic_south\n",
       "0           100            23\n",
       "1            45           145\n",
       "2            96            65\n",
       "3            80            54\n",
       "4            54            54\n",
       "5           109            79"
      ]
     },
     "execution_count": 202,
     "metadata": {},
     "output_type": "execute_result"
    }
   ],
   "source": [
    "# Select multiple columns\n",
    "df = pd.DataFrame([\n",
    "  ['January', 100, 100, 23, 100],\n",
    "  ['February', 51, 45, 145, 45],\n",
    "  ['March', 81, 96, 65, 96],\n",
    "  ['April', 80, 80, 54, 180],\n",
    "  ['May', 51, 54, 54, 154],\n",
    "  ['June', 112, 109, 79, 129]],\n",
    "  columns=['month', 'clinic_east',\n",
    "           'clinic_north', 'clinic_south',\n",
    "           'clinic_west']\n",
    ")\n",
    "clinic_north_south = df[['clinic_north','clinic_south']]\n",
    "print(type(clinic_north_south))\n",
    "clinic_north_south"
   ]
  },
  {
   "cell_type": "code",
   "execution_count": 204,
   "metadata": {},
   "outputs": [
    {
     "name": "stdout",
     "output_type": "stream",
     "text": [
      "   month  clinic_east  clinic_north  clinic_south  clinic_west\n",
      "2  March           81            96            65           96\n",
      "3  April           80            80            54          180\n",
      "4    May           51            54            54          154\n",
      "5   June          112           109            79          129\n"
     ]
    }
   ],
   "source": [
    "# Select Rows\n",
    "df = pd.DataFrame([\n",
    "  ['January', 100, 100, 23, 100],\n",
    "  ['February', 51, 45, 145, 45],\n",
    "  ['March', 81, 96, 65, 96],\n",
    "  ['April', 80, 80, 54, 180],\n",
    "  ['May', 51, 54, 54, 154],\n",
    "  ['June', 112, 109, 79, 129]],\n",
    "  columns=['month', 'clinic_east',\n",
    "           'clinic_north', 'clinic_south',\n",
    "           'clinic_west'])\n",
    "march = df.iloc[2] #select from 2nd row\n",
    "print(df.iloc[2:])"
   ]
  },
  {
   "cell_type": "code",
   "execution_count": 205,
   "metadata": {},
   "outputs": [
    {
     "name": "stdout",
     "output_type": "stream",
     "text": [
      "   month  clinic_east  clinic_north  clinic_south  clinic_west\n",
      "3  April           80            80            54          180\n",
      "4    May           51            54            54          154\n",
      "5   June          112           109            79          129\n"
     ]
    }
   ],
   "source": [
    "# Selecting Multiple Rows\n",
    "df = pd.DataFrame([\n",
    "  ['January', 100, 100, 23, 100],\n",
    "  ['February', 51, 45, 145, 45],\n",
    "  ['March', 81, 96, 65, 96],\n",
    "  ['April', 80, 80, 54, 180],\n",
    "  ['May', 51, 54, 54, 154],\n",
    "  ['June', 112, 109, 79, 129]],\n",
    "  columns=['month', 'clinic_east',\n",
    "           'clinic_north', 'clinic_south',\n",
    "           'clinic_west']\n",
    ")\n",
    "april_may_june = df.iloc[3:]\n",
    "print(april_may_june)"
   ]
  },
  {
   "cell_type": "code",
   "execution_count": 206,
   "metadata": {},
   "outputs": [
    {
     "name": "stdout",
     "output_type": "stream",
     "text": [
      "     month  clinic_east  clinic_north  clinic_south  clinic_west\n",
      "0  January          100           100            23          100\n"
     ]
    }
   ],
   "source": [
    "# Select Rows with Logic I\n",
    "df = pd.DataFrame([\n",
    "  ['January', 100, 100, 23, 100],\n",
    "  ['February', 51, 45, 145, 45],\n",
    "  ['March', 81, 96, 65, 96],\n",
    "  ['April', 80, 80, 54, 180],\n",
    "  ['May', 51, 54, 54, 154],\n",
    "  ['June', 112, 109, 79, 129]],\n",
    "  columns=['month', 'clinic_east',\n",
    "           'clinic_north', 'clinic_south',\n",
    "           'clinic_west'])\n",
    "\n",
    "january = df[df.month=='January']\n",
    "print(january)"
   ]
  },
  {
   "cell_type": "code",
   "execution_count": 209,
   "metadata": {},
   "outputs": [
    {
     "name": "stdout",
     "output_type": "stream",
     "text": [
      "   month  clinic_east  clinic_north  clinic_south  clinic_west\n",
      "2  March           81            96            65           96\n",
      "3  April           80            80            54          180\n"
     ]
    }
   ],
   "source": [
    "# multiple conditions\n",
    "march_april = df[(df.month == 'March') | (df.month == 'April')]\n",
    "print(march_april)"
   ]
  },
  {
   "cell_type": "code",
   "execution_count": 210,
   "metadata": {},
   "outputs": [
    {
     "name": "stdout",
     "output_type": "stream",
     "text": [
      "      month  clinic_east  clinic_north  clinic_south  clinic_west\n",
      "0   January          100           100            23          100\n",
      "1  February           51            45           145           45\n",
      "2     March           81            96            65           96\n"
     ]
    }
   ],
   "source": [
    "# isin with multiple values\n",
    "january_february_march = df[df.month.isin(['January','February','March'])]\n",
    "print(january_february_march)"
   ]
  },
  {
   "cell_type": "code",
   "execution_count": 214,
   "metadata": {},
   "outputs": [
    {
     "name": "stdout",
     "output_type": "stream",
     "text": [
      "   clinic_east  clinic_north  clinic_south\n",
      "1           51            45           145\n",
      "3           80            80            54\n",
      "5          112           109            79\n",
      "   index  clinic_east  clinic_north  clinic_south\n",
      "0      1           51            45           145\n",
      "1      3           80            80            54\n",
      "2      5          112           109            79\n",
      "   clinic_east  clinic_north  clinic_south\n",
      "0           51            45           145\n",
      "1           80            80            54\n",
      "2          112           109            79\n"
     ]
    }
   ],
   "source": [
    "# Setting indices\n",
    "df2 = df.iloc[[1, 3, 5],[1,2,3]]\n",
    "print(df2)\n",
    "df3 =df2.reset_index()\n",
    "#print(df2)\n",
    "print(df3)\n",
    "#Reset the indices of df2 by using the keyword inplace=True and drop=True\n",
    "\n",
    "df2.reset_index(inplace=True,drop=True)\n",
    "print(df2)"
   ]
  },
  {
   "cell_type": "code",
   "execution_count": 217,
   "metadata": {},
   "outputs": [
    {
     "name": "stdout",
     "output_type": "stream",
     "text": [
      "      id first_name last_name  gender                         email  \\\n",
      "0  54791    Rebecca   Lindsay  female  RebeccaLindsay57@hotmail.com   \n",
      "1  53450      Emily     Joyce  female        EmilyJoyce25@gmail.com   \n",
      "2  91987      Joyce    Waller  female        Joyce.Waller@gmail.com   \n",
      "3  14437     Justin  Erickson    male   Justin.Erickson@outlook.com   \n",
      "4  79357     Andrew     Banks    male              AB4318@gmail.com   \n",
      "\n",
      "      shoe_type shoe_material shoe_color  \n",
      "0         clogs  faux-leather      black  \n",
      "1  ballet flats  faux-leather       navy  \n",
      "2       sandles        fabric      black  \n",
      "3         clogs  faux-leather        red  \n",
      "4         boots       leather      brown  \n"
     ]
    }
   ],
   "source": [
    "orders = pd.read_csv('shoe_fly.csv', encoding='ISO-8859-1')\n",
    "print(orders.head())\n",
    "source = lambda row : 'animal' if row.shoe_material=='leather' else 'vegan' \n",
    "orders['shoe_source'] = orders.apply(source,axis=1)\n"
   ]
  },
  {
   "cell_type": "code",
   "execution_count": 236,
   "metadata": {},
   "outputs": [
    {
     "name": "stdout",
     "output_type": "stream",
     "text": [
      "    location product_type product_description  quantity  price\n",
      "10  Brooklyn        seeds               daisy        50   6.99\n",
      "11  Brooklyn        seeds          calla lily         0  19.99\n",
      "12  Brooklyn        seeds              tomato         0  13.99\n"
     ]
    }
   ],
   "source": [
    "inventory = pd.read_csv('inventory.csv', encoding='ISO-8859-1')\n",
    "# test = lambda row: row[(row.location=='Brooklyn' and row.product_type=='seeds')]\n",
    "test = lambda row: True if row.location == 'Brooklyn' and row.product_type == 'seeds' else False\n",
    "# seed_request = inventory[(inventory.location =='Brooklyn') & (inventory.product_type=='seeds')]\n",
    "seed_request = inventory[inventory.apply(test,axis=1)]\n",
    "print(seed_request)"
   ]
  },
  {
   "cell_type": "code",
   "execution_count": null,
   "metadata": {},
   "outputs": [],
   "source": []
  },
  {
   "cell_type": "code",
   "execution_count": 240,
   "metadata": {},
   "outputs": [
    {
     "name": "stdout",
     "output_type": "stream",
     "text": [
      "    location product_type product_description  quantity  price\n",
      "10  Brooklyn        seeds               daisy        50   6.99\n",
      "11  Brooklyn        seeds          calla lily         0  19.99\n",
      "12  Brooklyn        seeds              tomato         0  13.99\n",
      "0      True\n",
      "1      True\n",
      "2      True\n",
      "3      True\n",
      "4     False\n",
      "5      True\n",
      "6      True\n",
      "7      True\n",
      "8     False\n",
      "9      True\n",
      "10     True\n",
      "11    False\n",
      "12    False\n",
      "13     True\n",
      "14     True\n",
      "15     True\n",
      "16     True\n",
      "17     True\n",
      "18     True\n",
      "19     True\n",
      "20     True\n",
      "21     True\n",
      "22     True\n",
      "23     True\n",
      "24     True\n",
      "25     True\n",
      "26    False\n",
      "27     True\n",
      "28     True\n",
      "Name: in_stock, dtype: object\n",
      "0       27.96\n",
      "1      919.54\n",
      "2     1189.15\n",
      "3       55.96\n",
      "4        0.00\n",
      "5     1859.07\n",
      "6      961.26\n",
      "7      191.92\n",
      "8        0.00\n",
      "9      211.47\n",
      "10     349.50\n",
      "11       0.00\n",
      "12       0.00\n",
      "13     209.85\n",
      "14    7379.18\n",
      "15     719.64\n",
      "16    1039.20\n",
      "17    1823.24\n",
      "18      89.95\n",
      "19     103.74\n",
      "20     398.43\n",
      "21    1899.05\n",
      "22     629.55\n",
      "23     293.79\n",
      "24    8819.02\n",
      "25     519.74\n",
      "26       0.00\n",
      "27     383.84\n",
      "28    1565.13\n",
      "Name: total_value, dtype: float64\n",
      "0                            seeds - daisy\n",
      "1                       seeds - calla lily\n",
      "2                           seeds - tomato\n",
      "3                      garden tools - rake\n",
      "4               garden tools - wheelbarrow\n",
      "5                     garden tools - spade\n",
      "6             pest_control - insect killer\n",
      "7               pest_control - weed killer\n",
      "8     planter - 20 inch terracotta planter\n",
      "9         planter - 8 inch plastic planter\n",
      "10                           seeds - daisy\n",
      "11                      seeds - calla lily\n",
      "12                          seeds - tomato\n",
      "13                     garden tools - rake\n",
      "14              garden tools - wheelbarrow\n",
      "15                    garden tools - spade\n",
      "16            pest_control - insect killer\n",
      "17              pest_control - weed killer\n",
      "18    planter - 20 inch terracotta planter\n",
      "19        planter - 8 inch plastic planter\n",
      "20                           seeds - daisy\n",
      "21                      seeds - calla lily\n",
      "22                          seeds - tomato\n",
      "23                     garden tools - rake\n",
      "24              garden tools - wheelbarrow\n",
      "25                    garden tools - spade\n",
      "26            pest_control - insect killer\n",
      "27              pest_control - weed killer\n",
      "28    planter - 20 inch terracotta planter\n",
      "Name: full_description, dtype: object\n"
     ]
    }
   ],
   "source": [
    "inventory = pd.read_csv('inventory.csv', encoding='ISO-8859-1')\n",
    "#print(inventory.head(10))\n",
    "\n",
    "# staten_island = inventory.head(10)\n",
    "# #print(staten_island)\n",
    "\n",
    "# product_request = staten_island.product_description\n",
    "# print(product_request)\n",
    "\n",
    "test = lambda row: True if row.location == 'Brooklyn' and row.product_type == 'seeds' else False\n",
    "# seed_request = inventory[(inventory.location =='Brooklyn') & (inventory.product_type=='seeds')]\n",
    "seed_request = inventory[inventory.apply(test,axis=1)]\n",
    "print(seed_request)\n",
    "\n",
    "in_stock = lambda row: 'True' if row.quantity>0 else 'False'\n",
    "inventory['in_stock'] = inventory.apply(in_stock,axis=1)\n",
    "print(inventory['in_stock'])\n",
    "\n",
    "total_value = lambda row: row.price * row.quantity\n",
    "inventory['total_value'] = inventory.apply(total_value,axis=1)\n",
    "print(inventory['total_value'])\n",
    "\n",
    "combine_lambda = lambda row:'{} - {}'.format(row.product_type,\n",
    "                     row.product_description)\n",
    "\n",
    "inventory['full_description'] = inventory.apply(combine_lambda,axis=1)\n",
    "print(inventory['full_description'])"
   ]
  },
  {
   "cell_type": "code",
   "execution_count": null,
   "metadata": {},
   "outputs": [],
   "source": []
  },
  {
   "cell_type": "code",
   "execution_count": 262,
   "metadata": {},
   "outputs": [
    {
     "name": "stdout",
     "output_type": "stream",
     "text": [
      "Requirement already satisfied: pandas_datareader in ./venv/lib/python3.9/site-packages (0.10.0)\n",
      "Requirement already satisfied: pandas>=0.23 in ./venv/lib/python3.9/site-packages (from pandas_datareader) (2.2.3)\n",
      "Requirement already satisfied: requests>=2.19.0 in ./venv/lib/python3.9/site-packages (from pandas_datareader) (2.32.3)\n",
      "Requirement already satisfied: lxml in ./venv/lib/python3.9/site-packages (from pandas_datareader) (5.4.0)\n",
      "Requirement already satisfied: pytz>=2020.1 in ./venv/lib/python3.9/site-packages (from pandas>=0.23->pandas_datareader) (2025.2)\n",
      "Requirement already satisfied: python-dateutil>=2.8.2 in ./venv/lib/python3.9/site-packages (from pandas>=0.23->pandas_datareader) (2.9.0.post0)\n",
      "Requirement already satisfied: tzdata>=2022.7 in ./venv/lib/python3.9/site-packages (from pandas>=0.23->pandas_datareader) (2025.2)\n",
      "Requirement already satisfied: numpy>=1.22.4 in ./venv/lib/python3.9/site-packages (from pandas>=0.23->pandas_datareader) (2.0.2)\n",
      "Requirement already satisfied: six>=1.5 in ./venv/lib/python3.9/site-packages (from python-dateutil>=2.8.2->pandas>=0.23->pandas_datareader) (1.17.0)\n",
      "Requirement already satisfied: urllib3<3,>=1.21.1 in ./venv/lib/python3.9/site-packages (from requests>=2.19.0->pandas_datareader) (2.4.0)\n",
      "Requirement already satisfied: certifi>=2017.4.17 in ./venv/lib/python3.9/site-packages (from requests>=2.19.0->pandas_datareader) (2025.4.26)\n",
      "Requirement already satisfied: charset-normalizer<4,>=2 in ./venv/lib/python3.9/site-packages (from requests>=2.19.0->pandas_datareader) (3.4.2)\n",
      "Requirement already satisfied: idna<4,>=2.5 in ./venv/lib/python3.9/site-packages (from requests>=2.19.0->pandas_datareader) (3.10)\n",
      "\u001b[33mWARNING: You are using pip version 21.2.4; however, version 25.1.1 is available.\n",
      "You should consider upgrading via the '/Users/logambigaikuppusamy/Documents/DataScience/Financeanalyst/venv/bin/python3 -m pip install --upgrade pip' command.\u001b[0m\n",
      "Note: you may need to restart the kernel to use updated packages.\n"
     ]
    }
   ],
   "source": [
    "pip install pandas_datareader"
   ]
  },
  {
   "cell_type": "code",
   "execution_count": 265,
   "metadata": {
    "scrolled": true
   },
   "outputs": [
    {
     "name": "stdout",
     "output_type": "stream",
     "text": [
      "                    NY.GDP.PCAP.KD\n",
      "country       year                \n",
      "Canada        2024             NaN\n",
      "              2023    44468.747502\n",
      "              2022    45227.144735\n",
      "              2021    44359.616727\n",
      "India         2024             NaN\n",
      "              2023     2236.312793\n",
      "              2022     2086.076886\n",
      "              2021     1965.309434\n",
      "Mexico        2024             NaN\n",
      "              2023    10241.894511\n",
      "              2022    10011.254538\n",
      "              2021     9728.056800\n",
      "United States 2024             NaN\n",
      "              2023    65875.177881\n",
      "              2022    64342.117938\n",
      "              2021    62996.289384\n"
     ]
    },
    {
     "name": "stderr",
     "output_type": "stream",
     "text": [
      "/var/folders/fk/20jflc4n4z32_r921kfz_l8h0000gn/T/ipykernel_9658/4026062091.py:8: FutureWarning: errors='ignore' is deprecated and will raise in a future version. Use to_numeric without passing `errors` and catch exceptions explicitly instead\n",
      "  gdp_per_capita = wb.download(indicator=indicator_id, start=start, end=end, country=['US', 'CA', 'MX', 'IN'])\n"
     ]
    }
   ],
   "source": [
    "from pandas_datareader import wb\n",
    "from datetime import datetime\n",
    "\n",
    "start = datetime(2021, 1, 1)\n",
    "end = datetime(2024, 1, 1)\n",
    "indicator_id = 'NY.GDP.PCAP.KD'\n",
    "\n",
    "gdp_per_capita = wb.download(indicator=indicator_id, start=start, end=end, country=['US', 'CA', 'MX', 'IN'])\n",
    "\n",
    "print(gdp_per_capita)"
   ]
  },
  {
   "cell_type": "code",
   "execution_count": 269,
   "metadata": {},
   "outputs": [
    {
     "name": "stdout",
     "output_type": "stream",
     "text": [
      "              SP500\n",
      "DATE               \n",
      "2024-01-01      NaN\n",
      "2024-01-02  4742.83\n",
      "2024-01-03  4704.81\n",
      "2024-01-04  4688.68\n",
      "2024-01-05  4697.24\n",
      "2024-01-08  4763.54\n",
      "2024-01-09  4756.50\n",
      "2024-01-10  4783.45\n",
      "2024-01-11  4780.24\n",
      "2024-01-12  4783.83\n",
      "2024-01-15      NaN\n",
      "2024-01-16  4765.98\n",
      "2024-01-17  4739.21\n",
      "2024-01-18  4780.94\n",
      "2024-01-19  4839.81\n",
      "2024-01-22  4850.43\n",
      "2024-01-23  4864.60\n",
      "2024-01-24  4868.55\n",
      "2024-01-25  4894.16\n",
      "2024-01-26  4890.97\n",
      "2024-01-29  4927.93\n",
      "2024-01-30  4924.97\n",
      "2024-01-31  4845.65\n",
      "2024-02-01  4906.19\n"
     ]
    }
   ],
   "source": [
    "from datetime import datetime\n",
    "import pandas_datareader.data as web\n",
    "\n",
    "start = datetime(2024,1,1)\n",
    "end = datetime(2024,2,1)\n",
    "\n",
    "data =['SP500','fred']\n",
    "sap_data =web.DataReader(data[0], data[1], start, end)\n",
    "print(sap_data)"
   ]
  },
  {
   "cell_type": "code",
   "execution_count": 277,
   "metadata": {},
   "outputs": [
    {
     "name": "stdout",
     "output_type": "stream",
     "text": [
      "15096.99966398389\n",
      "                 GDP         growth\n",
      "GDP     3.262926e+06  110204.264747\n",
      "growth  1.102043e+05   15096.999664\n",
      "                  GDP   growth\n",
      "DATE                          \n",
      "2008-01-01  14706.538      NaN\n",
      "2008-04-01  14865.701  159.163\n"
     ]
    }
   ],
   "source": [
    "# API Keys - An API key is a unique string used to identify and authenticate entities requesting data.\n",
    "import pandas_datareader.data as web\n",
    "from datetime import datetime\n",
    "\n",
    "start = datetime(2008,1,1)\n",
    "end = datetime(2018,1,1)\n",
    "\n",
    "gdp = web.DataReader('GDP', 'fred', start, end)\n",
    "gdp['growth'] = gdp['GDP'] - gdp['GDP'].shift(1)\n",
    "print(gdp.growth.var())\n",
    "print(gdp.cov())\n",
    "\n",
    "print(gdp.head(2))"
   ]
  },
  {
   "cell_type": "code",
   "execution_count": null,
   "metadata": {},
   "outputs": [],
   "source": [
    "import codecademylib3_seaborn\n",
    "import pandas as pd\n",
    "\n",
    "tsp_data = pd.read_csv(\"tsp_data.csv\", header = 0, index_col = 0)\n",
    "\n",
    "print(tsp_data)\n",
    "\n",
    "print(tsp_data.var())\n",
    "print(tsp_data.cov())"
   ]
  },
  {
   "cell_type": "code",
   "execution_count": 290,
   "metadata": {},
   "outputs": [
    {
     "name": "stdout",
     "output_type": "stream",
     "text": [
      "         date     close         volume      open      high       low\n",
      "0  2019/08/13  208.9700  47539790.0000  201.0200  212.1400  200.8300\n",
      "1  2019/08/12  200.4800  22481890.0000  199.6200  202.0516  199.1500\n",
      "         date   close      volume    open      high     low\n",
      "0  2019/08/13  208.97  47539790.0  201.02  212.1400  200.83\n",
      "1  2019/08/12  200.48  22481890.0  199.62  202.0516  199.15\n"
     ]
    }
   ],
   "source": [
    "import pandas as pd\n",
    "\n",
    "# Create the DataFrame\n",
    "apple = pd.DataFrame([\n",
    "    [\"2019/08/13\", \"208.9700\", \"47539790.0000\", \"201.0200\", \"212.1400\", \"200.8300\"],\n",
    "    [\"2019/08/12\", \"200.4800\", \"22481890.0000\", \"199.6200\", \"202.0516\", \"199.1500\"]\n",
    "], columns=[\"date\", \"close\", \"volume\", \"open\", \"high\", \"low\"])\n",
    "\n",
    "# Print original DataFrame\n",
    "print(apple)\n",
    "\n",
    "# Save to CSV\n",
    "apple.to_csv('apple_prices.csv', index=False)  # ✅ corrected\n",
    "\n",
    "# Read the CSV\n",
    "df1 = pd.read_csv('apple_prices.csv')\n",
    "\n",
    "# Display read data\n",
    "print(df1.head(2))\n",
    "# print(apple_prices['open'].var())\n",
    "\n",
    "# gas_prices = web.DataReader('APUS12A74714', 'fred',datetime(2008,1,1), datetime(2018,1,1))\n",
    "\n",
    "# print(gas_prices)"
   ]
  },
  {
   "cell_type": "code",
   "execution_count": 293,
   "metadata": {},
   "outputs": [
    {
     "name": "stdout",
     "output_type": "stream",
     "text": [
      "         Date  Gold_Price\n",
      "0  2019-08-30      1528.4\n",
      "1  2019-08-29      1540.2\n",
      "           Date  Crude_Oil_Price\n",
      "0  Sep 11, 2018            69.25\n",
      "1  Sep 10, 2018            67.54\n",
      "              SP500\n",
      "DATE               \n",
      "2015-06-08  2079.28\n",
      "2015-06-09  2080.15\n",
      "2015-06-10  2105.20\n",
      "2015-06-11  2108.86\n",
      "2015-06-12  2094.11\n"
     ]
    },
    {
     "name": "stderr",
     "output_type": "stream",
     "text": [
      "/var/folders/fk/20jflc4n4z32_r921kfz_l8h0000gn/T/ipykernel_9658/4195090420.py:26: FutureWarning: errors='ignore' is deprecated and will raise in a future version. Use to_numeric without passing `errors` and catch exceptions explicitly instead\n",
      "  gdp_data = wb.download(indicator='NY.GDP.MKTP.CD', country=['US'], start=start , end=end)\n"
     ]
    },
    {
     "name": "stdout",
     "output_type": "stream",
     "text": [
      "Gold variance: 0.00011375928671558508\n",
      "Crude Oil variance: 0.0005563207795629881\n"
     ]
    },
    {
     "name": "stderr",
     "output_type": "stream",
     "text": [
      "/var/folders/fk/20jflc4n4z32_r921kfz_l8h0000gn/T/ipykernel_9658/4195090420.py:28: FutureWarning: errors='ignore' is deprecated and will raise in a future version. Use to_numeric without passing `errors` and catch exceptions explicitly instead\n",
      "  export_data = wb.download(indicator='NE.EXP.GNFS.CN', country=['US'], start=start, end=end)\n"
     ]
    }
   ],
   "source": [
    "import pandas as pd\n",
    "import numpy as np\n",
    "import pandas_datareader.data as web\n",
    "from datetime import datetime\n",
    "import pandas_datareader.wb as wb\n",
    "\n",
    "\n",
    "def log_return(prices):\n",
    "  return prices/prices.shift(1)\n",
    "\n",
    "gold_prices = pd.read_csv('gold_prices.csv')\n",
    "print(gold_prices.head(2))\n",
    "\n",
    "crude_oil_prices =pd.read_csv('crude_oil_prices.csv')\n",
    "print(crude_oil_prices.head(2))\n",
    "\n",
    "start = datetime(1999, 1, 1)\n",
    "end = datetime(2019, 1, 1)\n",
    "\n",
    "nasdaq_data = web.DataReader('NASDAQ100', 'fred', start, end)\n",
    "\n",
    "sap_data = web.DataReader('SP500', 'fred', start, end)\n",
    "print(sap_data.head(5))\n",
    "\n",
    "\n",
    "gdp_data = wb.download(indicator='NY.GDP.MKTP.CD', country=['US'], start=start , end=end)\n",
    "\n",
    "export_data = wb.download(indicator='NE.EXP.GNFS.CN', country=['US'], start=start, end=end)\n",
    "\n",
    "# gold_returns = np.log(log_return(gold_prices['Gold_Price']))\n",
    "\n",
    "# crudeoil_returns = np.log(log_return(crude_oil_prices['Crude_Oil_Price']))\n",
    "\n",
    "# sap_returns = np.log(log_return(sap_data['SP500']))\n",
    "\n",
    "datasets = {'Gold': gold_prices['Gold_Price'], 'Crude Oil': crude_oil_prices['Crude_Oil_Price']}\n",
    "returns = {}\n",
    "for name, data in datasets.items():\n",
    "    returns[name] = np.log(log_return(data))\n",
    "    print(f'{name} variance:', returns[name].var())\n",
    "\n",
    "# print(gold_returns,crudeoil_returns,sap_returns)\n",
    "\n",
    "# print('NASDAQ:', nasdaq_returns.var())\n",
    "# print('GDP:', gdp_returns.var())\n",
    "# print('Exports:', export_returns.var())"
   ]
  }
 ],
 "metadata": {
  "kernelspec": {
   "display_name": "Python 3 (ipykernel)",
   "language": "python",
   "name": "python3"
  },
  "language_info": {
   "codemirror_mode": {
    "name": "ipython",
    "version": 3
   },
   "file_extension": ".py",
   "mimetype": "text/x-python",
   "name": "python",
   "nbconvert_exporter": "python",
   "pygments_lexer": "ipython3",
   "version": "3.9.6"
  }
 },
 "nbformat": 4,
 "nbformat_minor": 4
}
