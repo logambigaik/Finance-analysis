{
 "cells": [
  {
   "cell_type": "code",
   "execution_count": 1,
   "metadata": {
    "vscode": {
     "languageId": "plaintext"
    }
   },
   "outputs": [
    {
     "name": "stdout",
     "output_type": "stream",
     "text": [
      "[2, 4, 6, 8, 10]\n"
     ]
    }
   ],
   "source": [
    "def double(x): \n",
    "    return x * 2 \n",
    "\n",
    "numbers = [1, 2, 3, 4, 5] \n",
    "doubled_numbers = map(double, numbers) \n",
    "\n",
    "print(list(doubled_numbers))  # Output: [2, 4, 6, 8, 10] "
   ]
  },
  {
   "cell_type": "code",
   "execution_count": 2,
   "metadata": {},
   "outputs": [
    {
     "name": "stdout",
     "output_type": "stream",
     "text": [
      "[1, 2, 3, 4, 5]\n"
     ]
    }
   ],
   "source": [
    "# Converting strings to integers \n",
    "\n",
    "str_nums = ['1', '2', '3', '4', '5'] \n",
    "int_nums = list(map(int, str_nums)) \n",
    "print(int_nums)  # Output: [1, 2, 3, 4, 5] "
   ]
  },
  {
   "cell_type": "code",
   "execution_count": 3,
   "metadata": {},
   "outputs": [
    {
     "name": "stdout",
     "output_type": "stream",
     "text": [
      "[5, 6, 6]\n"
     ]
    }
   ],
   "source": [
    "# Finding the length of strings \n",
    "\n",
    "words = ['apple', 'banana', 'cherry'] \n",
    "word_lengths = list(map(len, words)) \n",
    "print(word_lengths)  # Output: [5, 6, 6] "
   ]
  },
  {
   "cell_type": "code",
   "execution_count": 5,
   "metadata": {},
   "outputs": [
    {
     "name": "stdout",
     "output_type": "stream",
     "text": [
      "[11, 22, 33]\n"
     ]
    }
   ],
   "source": [
    "list1 = [1, 2, 3] \n",
    "list2 = [10, 20, 30] \n",
    "result = list(map(lambda x, y: x + y, list1, list2)) \n",
    "print(result)  # Output: [11, 22, 33] "
   ]
  },
  {
   "cell_type": "code",
   "execution_count": 4,
   "metadata": {},
   "outputs": [
    {
     "name": "stdout",
     "output_type": "stream",
     "text": [
      "[2, 4, 6, 8, 10]\n"
     ]
    }
   ],
   "source": [
    "numbers = [1, 2, 3, 4, 5] \n",
    "doubled = list(map(lambda x: x * 2, numbers)) \n",
    "print(doubled)  # Output: [2, 4, 6, 8, 10] "
   ]
  },
  {
   "cell_type": "code",
   "execution_count": 16,
   "metadata": {},
   "outputs": [
    {
     "name": "stdout",
     "output_type": "stream",
     "text": [
      "[2, 4, 6, 8, 10]\n"
     ]
    },
    {
     "data": {
      "text/plain": [
       "[2, 4, 6, 8, 10]"
      ]
     },
     "execution_count": 16,
     "metadata": {},
     "output_type": "execute_result"
    }
   ],
   "source": [
    "# List Comprehensions: Often more readable for simple operations.\n",
    "doubled = [x * 2 for x in numbers] \n",
    "print(doubled)\n",
    "#Generator Expressions: Similar to list comprehensions but return an iterator.\n",
    "doubled = (x * 2 for x in numbers) \n",
    "list(doubled)"
   ]
  },
  {
   "cell_type": "code",
   "execution_count": 18,
   "metadata": {},
   "outputs": [
    {
     "data": {
      "text/plain": [
       "[2, 4, 6, 8, 10]"
      ]
     },
     "execution_count": 18,
     "metadata": {},
     "output_type": "execute_result"
    }
   ],
   "source": [
    "# For Loops: More verbose but sometimes clearer for complex operations.\n",
    "doubled = [] \n",
    "\n",
    "for x in numbers: \n",
    "    doubled.append(x * 2) \n",
    "\n",
    "doubled"
   ]
  },
  {
   "cell_type": "code",
   "execution_count": 19,
   "metadata": {},
   "outputs": [
    {
     "name": "stdout",
     "output_type": "stream",
     "text": [
      "Original names: ['Alice', 'Bob', 'Charlie', 'David', 'Eve']\n",
      "Name lengths: [5, 3, 7, 5, 3]\n",
      "Capitalized names: ['ALICE', 'BOB', 'CHARLIE', 'DAVID', 'EVE']\n"
     ]
    }
   ],
   "source": [
    "# Sample list of names\n",
    "names = ['Alice', 'Bob', 'Charlie', 'David', 'Eve']\n",
    "\n",
    "# Using map with a lambda function to get the length of each name\n",
    "name_lengths = list(map(lambda x: len(x), names))\n",
    "\n",
    "# Using map with a defined function to capitalize each name\n",
    "def capitalize_name(name):\n",
    "    return name.upper()\n",
    "\n",
    "capitalized_names = list(map(capitalize_name, names))\n",
    "\n",
    "# Print the results\n",
    "print(\"Original names:\", names)\n",
    "print(\"Name lengths:\", name_lengths)\n",
    "print(\"Capitalized names:\", capitalized_names)\n",
    "\n",
    "# Try creating your own map function!\n",
    "# Uncomment and modify the line below:\n",
    "# your_result = list(map(lambda x: # Your function here, names))\n",
    "# print(\"Your result:\", your_result)"
   ]
  },
  {
   "cell_type": "code",
   "execution_count": null,
   "metadata": {},
   "outputs": [],
   "source": []
  }
 ],
 "metadata": {
  "kernelspec": {
   "display_name": "Python 3 (ipykernel)",
   "language": "python",
   "name": "python3"
  },
  "language_info": {
   "codemirror_mode": {
    "name": "ipython",
    "version": 3
   },
   "file_extension": ".py",
   "mimetype": "text/x-python",
   "name": "python",
   "nbconvert_exporter": "python",
   "pygments_lexer": "ipython3",
   "version": "3.9.6"
  }
 },
 "nbformat": 4,
 "nbformat_minor": 4
}
