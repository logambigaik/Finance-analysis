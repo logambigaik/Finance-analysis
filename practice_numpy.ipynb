{
 "cells": [
  {
   "cell_type": "code",
   "execution_count": 1,
   "metadata": {
    "vscode": {
     "languageId": "plaintext"
    }
   },
   "outputs": [
    {
     "name": "stdout",
     "output_type": "stream",
     "text": [
      "[92 94 88 91 87]\n"
     ]
    }
   ],
   "source": [
    "import numpy as np\n",
    "\n",
    "test_1 = np.array([92, 94, 88, 91, 87])\n",
    "print(test_1)"
   ]
  },
  {
   "cell_type": "code",
   "execution_count": 5,
   "metadata": {},
   "outputs": [
    {
     "name": "stdout",
     "output_type": "stream",
     "text": [
      "/Users/logambigaikuppusamy/Documents/DataScience/Financeanalyst\n"
     ]
    },
    {
     "name": "stderr",
     "output_type": "stream",
     "text": [
      "/var/folders/fk/20jflc4n4z32_r921kfz_l8h0000gn/T/ipykernel_12441/734391840.py:8: UserWarning: genfromtxt: Empty input file: \"test_2.csv\"\n",
      "  test_2 = np.genfromtxt('test_2.csv', delimiter=',')\n"
     ]
    },
    {
     "data": {
      "text/plain": [
       "array([], dtype=float64)"
      ]
     },
     "execution_count": 5,
     "metadata": {},
     "output_type": "execute_result"
    }
   ],
   "source": [
    "import numpy as np\n",
    "import os\n",
    "\n",
    "\n",
    "test_1 = np.array([92, 94, 88, 91, 87])\n",
    "\n",
    "#We want to load the data from test_2.csv and store it in an array called test_2\n",
    "test_2 = np.genfromtxt('test_2.csv', delimiter=',')\n",
    "print(os.getcwd())\n",
    "\n",
    "test_2\n"
   ]
  },
  {
   "cell_type": "code",
   "execution_count": 10,
   "metadata": {},
   "outputs": [
    {
     "name": "stdout",
     "output_type": "stream",
     "text": [
      "[4, 5, 6, 7, 8]\n",
      "[4 5 6 7 8]\n"
     ]
    },
    {
     "data": {
      "text/plain": [
       "array([2.        , 2.23606798, 2.44948974, 2.64575131, 2.82842712])"
      ]
     },
     "execution_count": 10,
     "metadata": {},
     "output_type": "execute_result"
    }
   ],
   "source": [
    "# With a list\n",
    "l = [1, 2, 3, 4, 5]\n",
    "l_plus_3 = []\n",
    "for i in range(len(l)):\n",
    "    l_plus_3.append(l[i] + 3)\n",
    "\n",
    "print(l_plus_3)\n",
    "\n",
    "# With an array\n",
    "a = np.array(l)\n",
    "a_plus_3 = a + 3\n",
    "print(a_plus_3)\n",
    "\n",
    "a ** 2 #array([ 1,  4,  9, 16, 25, 36])\n",
    "np.sqrt(a_plus_3)"
   ]
  },
  {
   "cell_type": "code",
   "execution_count": 11,
   "metadata": {},
   "outputs": [
    {
     "name": "stdout",
     "output_type": "stream",
     "text": [
      "[89 87 74 92 94]\n"
     ]
    }
   ],
   "source": [
    "import numpy as np\n",
    "\n",
    "test_1 = np.array([92, 94, 88, 91, 87])\n",
    "test_2 = np.array([79, 100, 86, 93, 91])\n",
    "test_3 = np.array([87, 85, 72, 90, 92])\n",
    "\n",
    "# method 1\n",
    "# test_3_fixed = []\n",
    "# for i in range(len(test_3)):\n",
    "#     test_3_fixed.append(test_3[i]+2)\n",
    "\n",
    "test_3_fixed = test_3 + 2\n",
    "print(test_3_fixed)"
   ]
  },
  {
   "cell_type": "code",
   "execution_count": 13,
   "metadata": {},
   "outputs": [
    {
     "data": {
      "text/plain": [
       "array([ 7,  9, 11, 13, 15])"
      ]
     },
     "execution_count": 13,
     "metadata": {},
     "output_type": "execute_result"
    }
   ],
   "source": [
    "a = np.array([1, 2, 3, 4, 5])\n",
    "b = np.array([6, 7, 8, 9, 10])\n",
    "a + b     #array([ 7,  9, 11, 13, 15])"
   ]
  },
  {
   "cell_type": "code",
   "execution_count": 14,
   "metadata": {},
   "outputs": [
    {
     "name": "stdout",
     "output_type": "stream",
     "text": [
      "[260 281 248 276 272]\n",
      "[86.66666667 93.66666667 82.66666667 92.         90.66666667]\n"
     ]
    }
   ],
   "source": [
    "import numpy as np\n",
    "\n",
    "test_1 = np.array([92, 94, 88, 91, 87])\n",
    "test_2 = np.array([79, 100, 86, 93, 91])\n",
    "test_3 = np.array([87, 85, 72, 90, 92])\n",
    "test_3_fixed = test_3 + 2\n",
    "\n",
    "total_grade = test_1 + test_2 + test_3_fixed\n",
    "print(total_grade)\n",
    "\n",
    "final_grade = total_grade / 3\n",
    "print(final_grade)"
   ]
  },
  {
   "cell_type": "code",
   "execution_count": 15,
   "metadata": {},
   "outputs": [
    {
     "data": {
      "text/plain": [
       "array([[1, 0, 0, 1, 0],\n",
       "       [0, 0, 1, 1, 1]])"
      ]
     },
     "execution_count": 15,
     "metadata": {},
     "output_type": "execute_result"
    }
   ],
   "source": [
    "# Two Dimensional Array\n",
    "import numpy as np\n",
    "\n",
    "coin_toss = np.array([1, 0, 0, 1, 0])\n",
    "coin_toss_again = np.array([[1, 0, 0, 1, 0], [0, 0, 1, 1, 1]])\n",
    "coin_toss_again"
   ]
  },
  {
   "cell_type": "code",
   "execution_count": 19,
   "metadata": {},
   "outputs": [
    {
     "name": "stdout",
     "output_type": "stream",
     "text": [
      "93\n",
      "[94 88]\n"
     ]
    }
   ],
   "source": [
    "import numpy as np\n",
    "\n",
    "test_1 = np.array([92, 94, 88, 91, 87])\n",
    "test_2 = np.array([79, 100, 86, 93, 91])\n",
    "test_3 = np.array([87, 85, 72, 90, 92])\n",
    "\n",
    "jeremy_test_2 = test_2[3]\n",
    "print(jeremy_test_2)\n",
    "\n",
    "manual_adwoa_test_1 = test_1[1:3]\n",
    "print(manual_adwoa_test_1)"
   ]
  },
  {
   "cell_type": "code",
   "execution_count": 32,
   "metadata": {},
   "outputs": [
    {
     "name": "stdout",
     "output_type": "stream",
     "text": [
      "85\n",
      "[92 79 87]\n",
      "[88 91 87]\n",
      "[93 91]\n",
      "[85 72 90]\n"
     ]
    }
   ],
   "source": [
    "# two dimensional array\n",
    "import numpy as np\n",
    "\n",
    "student_scores = np.array([[92, 94, 88, 91, 87],[79, 100, 86, 93, 91],[87, 85, 72, 90, 92]])\n",
    "print(student_scores[2,1])\n",
    "print(student_scores[:,0]) # returns 0th index value from each inner array\n",
    "print(student_scores[0,2:5]) # This prints elements from positions 2, 3, and 4 of the first row in the array\n",
    "print(student_scores[1,3:5]) # This prints elements from positions 2, 3, and 4 of the second row in the array\n",
    "print(student_scores[2,1:4]) # This prints elements from positions 2, 3, and 4 of the second row in the array"
   ]
  },
  {
   "cell_type": "code",
   "execution_count": 33,
   "metadata": {},
   "outputs": [
    {
     "name": "stdout",
     "output_type": "stream",
     "text": [
      "87\n",
      "[87 91 92]\n"
     ]
    }
   ],
   "source": [
    "import numpy as np\n",
    "\n",
    "student_scores = np.array([[92, 94, 88, 91, 87],[79, 100, 86, 93, 91],[87, 85, 72, 90, 92]])\n",
    "\n",
    "tanya_test_3 = student_scores[2,0] # select tanya score from test3\n",
    "print(tanya_test_3)\n",
    "\n",
    "cody_test_scores = student_scores[:,4]\n",
    "print(cody_test_scores)"
   ]
  },
  {
   "cell_type": "code",
   "execution_count": 36,
   "metadata": {},
   "outputs": [
    {
     "data": {
      "text/plain": [
       "array([10,  9,  8,  9,  7])"
      ]
     },
     "execution_count": 36,
     "metadata": {},
     "output_type": "execute_result"
    }
   ],
   "source": [
    "# Logical operator with Arrays\n",
    "a = np.array([10, 2, 2, 4, 5, 3, 9, 8, 9, 7])\n",
    "a>5 # output -array([ True, False, False, False, False, False,  True,  True,  True,True])\n",
    "a[a>5] # output array([10,  9,  8,  9,  7])"
   ]
  },
  {
   "cell_type": "code",
   "execution_count": null,
   "metadata": {},
   "outputs": [],
   "source": [
    "import numpy as np\n",
    "\n",
    "porridge = np.array([79, 65, 50, 63, 56, 90, 85, 98, 79, 51])\n",
    "\n",
    "cold = porridge[porridge< 60]\n",
    "print(cold)\n",
    "\n",
    "hot = porridge[porridge >80]\n",
    "print(hot)\n",
    "\n",
    "just_right = porridge[(porridge>60) & (porridge<=80)]\n",
    "print(just_right)"
   ]
  },
  {
   "cell_type": "code",
   "execution_count": null,
   "metadata": {},
   "outputs": [],
   "source": [
    "#Project 1\n",
    "\n",
    "import numpy as np\n",
    "temperatures = np.genfromtxt('temperature_data.csv', delimiter=',')\n",
    "\n",
    "print(temperatures)\n",
    "\n",
    "temperatures_fixed = temperatures + 3\n",
    "\n",
    "print(temperatures_fixed)\n",
    "\n",
    "monday_temperatures = temperatures_fixed[0,:]\n",
    "\n",
    "thursday_friday_morning = temperatures_fixed[3:5,1]\n",
    "\n",
    "temperature_extremes = temperatures_fixed[(temperatures_fixed < 50) | (temperatures_fixed > 60)]\n",
    "\n",
    "print(monday_temperatures)\n",
    "print(thursday_friday_morning)\n",
    "print(temperature_extremes)"
   ]
  },
  {
   "cell_type": "code",
   "execution_count": null,
   "metadata": {},
   "outputs": [],
   "source": [
    "#Betty's Bakery\n",
    "\n",
    "import numpy as np\n",
    "cupcakes = np.array([2, 0.75, 2, 1, 0.5])\n",
    "\n",
    "# Betty’s assistant has compiled all of her recipes into a csv (comma-separated variable) file called recipes.csv\n",
    "\n",
    "recipes = np.genfromtxt('recipes.csv', delimiter=\",\")\n",
    "print(recipes)\n",
    "\n",
    "# 3rd column represents the number of eggs that each recipe needs\n",
    "eggs = recipes[:,2]\n",
    "print(eggs)\n",
    "\n",
    "# Which recipes require exactly 1 egg\n",
    "print(eggs==1)\n",
    "\n",
    "#  1 batch of cookies (3rd row)\n",
    "cookies = recipes[3,:]\n",
    "print(cookies)\n",
    "\n",
    "# Get the number of ingredients for a double batch of cupcakes by using multiplication on cupcakes\n",
    "double_batch = cupcakes *2\n",
    "print(double_batch)"
   ]
  }
 ],
 "metadata": {
  "kernelspec": {
   "display_name": "Python 3 (ipykernel)",
   "language": "python",
   "name": "python3"
  },
  "language_info": {
   "codemirror_mode": {
    "name": "ipython",
    "version": 3
   },
   "file_extension": ".py",
   "mimetype": "text/x-python",
   "name": "python",
   "nbconvert_exporter": "python",
   "pygments_lexer": "ipython3",
   "version": "3.9.6"
  }
 },
 "nbformat": 4,
 "nbformat_minor": 4
}
