{
 "cells": [
  {
   "cell_type": "code",
   "execution_count": null,
   "metadata": {
    "vscode": {
     "languageId": "plaintext"
    }
   },
   "outputs": [],
   "source": [
    "from helper_functions import choose_statistic, population_distribution, sampling_distribution\n",
    "import numpy as np\n",
    "import pandas as pd\n",
    "import matplotlib.pyplot as plt\n",
    "from scipy import stats\n",
    "import seaborn as sns\n",
    "import codecademylib3\n",
    "\n",
    "# task 1: load in the spotify dataset\n",
    "spotify_data = pd.read_csv('spotify_data.csv')\n",
    "\n",
    "# task 2: preview the dataset\n",
    "print(spotify_data.head())\n",
    "\n",
    "# task 3: select the relevant column\n",
    "song_tempos = spotify_data['tempo']\n",
    "print(song_tempos)\n",
    "# task 5: plot the population distribution with the mean labeled\n",
    "# example function use case\n",
    "population_distribution(song_tempos)\n",
    "\n",
    "# task 6: sampling distribution of the sample mean\n",
    "# example function use case for sampling distribution of the mean\n",
    "\n",
    "sampling_distribution(song_tempos,30,\"Mean\")\n",
    "\n",
    "# task 8: sampling distribution of the sample minimum\n",
    "print(sampling_distribution(song_tempos,30,\"Minimum\"))\n",
    "\n",
    "\n",
    "# task 10: sampling distribution of the sample variance\n",
    "print(sampling_distribution(song_tempos,30,'Variance'))\n",
    "print(population_distribution(song_tempos))\n",
    "\n",
    "# task 13: calculate the population mean and standard deviation\n",
    "population_mean = np.mean(song_tempos)\n",
    "population_std = np.std(song_tempos)\n",
    "print(population_mean, population_std)\n",
    "\n",
    "# task 14: calculate the standard error\n",
    "standard_error = population_std/np.sqrt(30)\n",
    "print(standard_error)\n",
    "\n",
    "# task 15: calculate the probability of observing an average tempo of 140bpm or lower from a sample of 30 songs\n",
    "print(stats.norm.cdf(140,population_mean, standard_error))\n",
    "\n",
    "# task 16: calculate the probability of observing an average tempo of 150bpm or higher from a sample of 30 songs\n",
    "\n",
    "print(1 - stats.norm.cdf(150, population_mean,standard_error))\n",
    "\n",
    "# EXTRA\n",
    "\n",
    "song_danceability = spotify_data['danceability']\n",
    "\n",
    "population_distribution(song_danceability)\n",
    "sampling_distribution(song_danceability, 30, \"Mean\")"
   ]
  },
  {
   "cell_type": "code",
   "execution_count": null,
   "metadata": {
    "vscode": {
     "languageId": "plaintext"
    }
   },
   "outputs": [],
   "source": []
  }
 ],
 "metadata": {
  "language_info": {
   "name": "python"
  }
 },
 "nbformat": 4,
 "nbformat_minor": 2
}
